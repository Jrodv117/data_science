{
  "cells": [
    {
      "cell_type": "markdown",
      "metadata": {
        "id": "mHDRdFg0lM4l"
      },
      "source": [
        "Problem 1\n"
      ]
    },
    {
      "cell_type": "markdown",
      "metadata": {
        "id": "BHeS1AIZqw0n"
      },
      "source": [
        "The accompanying data set contains three numerical variables, x1, x2, and x3.\n"
      ]
    },
    {
      "cell_type": "code",
      "execution_count": 1,
      "metadata": {
        "id": "sBysc_stldRl"
      },
      "outputs": [
        {
          "ename": "ModuleNotFoundError",
          "evalue": "No module named 'pandas'",
          "output_type": "error",
          "traceback": [
            "\u001b[0;31m---------------------------------------------------------------------------\u001b[0m",
            "\u001b[0;31mModuleNotFoundError\u001b[0m                       Traceback (most recent call last)",
            "Cell \u001b[0;32mIn[1], line 1\u001b[0m\n\u001b[0;32m----> 1\u001b[0m \u001b[39mimport\u001b[39;00m \u001b[39mpandas\u001b[39;00m \u001b[39mas\u001b[39;00m \u001b[39mpd\u001b[39;00m\n\u001b[1;32m      3\u001b[0m data \u001b[39m=\u001b[39m pd\u001b[39m.\u001b[39mread_excel(\u001b[39m\"\u001b[39m\u001b[39mCh2_Q9_V18_Data_File.xlsx\u001b[39m\u001b[39m\"\u001b[39m)\n\u001b[1;32m      4\u001b[0m \u001b[39m# load data (remember to upload the datafile you downloaded from connect to colab)\u001b[39;00m\n",
            "\u001b[0;31mModuleNotFoundError\u001b[0m: No module named 'pandas'"
          ]
        }
      ],
      "source": [
        "# load data (remember to upload the datafile you downloaded from connect to colab)\n",
        "import pandas as pd\n",
        "\n",
        "data = pd.read_excel(\"Ch2_Q9_V18_Data_File.xlsx\")\n",
        "data.head()"
      ]
    },
    {
      "cell_type": "markdown",
      "metadata": {
        "id": "PfEAOKCEq0L_"
      },
      "source": [
        "a. How many observations have x1 values greater than 30?\n"
      ]
    },
    {
      "cell_type": "code",
      "execution_count": null,
      "metadata": {
        "id": "NEW5H_rfmK6m"
      },
      "outputs": [],
      "source": [
        "# you can put .count() at the and of your query\n"
      ]
    },
    {
      "cell_type": "markdown",
      "metadata": {
        "id": "emINeOZbq03e"
      },
      "source": [
        "b. Sort the data by x1, x2, and then x3 all in ascending order. What are the x1, x2, and x3 values of the first observation after the data are sorted?\n"
      ]
    },
    {
      "cell_type": "code",
      "execution_count": null,
      "metadata": {
        "id": "HnVcYgO_nT-W"
      },
      "outputs": [],
      "source": []
    },
    {
      "cell_type": "markdown",
      "metadata": {
        "id": "LLxVceoPq2Nd"
      },
      "source": [
        "c. Sort the data by x1 and x2 both in descending order. What are the x1, x2, and x3 values of the first observation after the data are sorted?\n"
      ]
    },
    {
      "cell_type": "code",
      "execution_count": null,
      "metadata": {
        "id": "zI4OB2danZrt"
      },
      "outputs": [],
      "source": []
    },
    {
      "cell_type": "markdown",
      "metadata": {
        "id": "0vY3bmheq4f2"
      },
      "source": [
        "d. How many missing values are there in x1, x2, and x3?\n"
      ]
    },
    {
      "cell_type": "code",
      "execution_count": null,
      "metadata": {
        "id": "8XImJ1A6neQ4"
      },
      "outputs": [],
      "source": []
    },
    {
      "cell_type": "markdown",
      "metadata": {
        "id": "b4qs6H1wnv_v"
      },
      "source": [
        "Problem 2.\n",
        "\n",
        "The following table lists a portion of the average writing and math SAT scores for the 50 states as well as the District of Columbia, Puerto Rico, and the U.S. Virgin Islands for the year 2017 as reported by the College Board.\n"
      ]
    },
    {
      "cell_type": "code",
      "execution_count": null,
      "metadata": {
        "id": "ya7LDYwPnynS"
      },
      "outputs": [],
      "source": [
        "# Load data\n"
      ]
    },
    {
      "cell_type": "markdown",
      "metadata": {
        "id": "OswLXO5ooEkm"
      },
      "source": [
        "a. Sort the data by writing scores in descending order. Which state has the highest average writing score? What is the average math score of that state?\n"
      ]
    },
    {
      "cell_type": "code",
      "execution_count": null,
      "metadata": {
        "id": "KF_3BUEBoRqW"
      },
      "outputs": [],
      "source": []
    },
    {
      "cell_type": "markdown",
      "metadata": {
        "id": "y0X6jBuLo-v_"
      },
      "source": [
        "b. Sort the data by math scores in ascending order. Which state has the lowest average math score? What is the average writing score of that state?\n"
      ]
    },
    {
      "cell_type": "code",
      "execution_count": null,
      "metadata": {
        "id": "FO8YlbOopBZQ"
      },
      "outputs": [],
      "source": []
    },
    {
      "cell_type": "markdown",
      "metadata": {
        "id": "AMarAd7kpcw1"
      },
      "source": [
        "c. How many states reported an average math score higher than 600?\n"
      ]
    },
    {
      "cell_type": "code",
      "execution_count": null,
      "metadata": {
        "id": "x1LrqoMNpcYO"
      },
      "outputs": [],
      "source": [
        "# remember to put .count() at the end\n"
      ]
    },
    {
      "cell_type": "markdown",
      "metadata": {
        "id": "Sr0aBeRApv3N"
      },
      "source": [
        "d. How many states reported an average writing score lower than 550?\n"
      ]
    },
    {
      "cell_type": "code",
      "execution_count": null,
      "metadata": {
        "id": "O-vJqya9p2BF"
      },
      "outputs": [],
      "source": []
    },
    {
      "cell_type": "markdown",
      "metadata": {
        "id": "o-peNEvQsxd5"
      },
      "source": [
        "Problem 3\n"
      ]
    },
    {
      "cell_type": "markdown",
      "metadata": {
        "id": "ROQWp-VUsyzH"
      },
      "source": [
        "Consider the information on annual income (Income in $1,000s), age, sex (F = female, M = male), and marital status (Married; Y = yes, N = no). A portion of the data is shown in the accompanying table.\n"
      ]
    },
    {
      "cell_type": "code",
      "execution_count": null,
      "metadata": {
        "id": "wzr4BnAVs1R-"
      },
      "outputs": [],
      "source": [
        "# Load data\n"
      ]
    },
    {
      "cell_type": "markdown",
      "metadata": {
        "id": "DiibOaAWs0Mv"
      },
      "source": [
        "a. Count the number of males and females in the data.\n"
      ]
    },
    {
      "cell_type": "code",
      "execution_count": null,
      "metadata": {
        "id": "el8yxbUZtBtg"
      },
      "outputs": [],
      "source": []
    },
    {
      "cell_type": "code",
      "execution_count": null,
      "metadata": {
        "id": "uoA8Ov5RxD1b"
      },
      "outputs": [],
      "source": []
    },
    {
      "cell_type": "markdown",
      "metadata": {
        "id": "TF6ea9mAtDDg"
      },
      "source": [
        "b. What percentage of males and females are married?\n"
      ]
    },
    {
      "cell_type": "code",
      "execution_count": null,
      "metadata": {
        "id": "qMtCmsG8xkig"
      },
      "outputs": [],
      "source": [
        "# you can count the numerator and the denominator separately and just divide the two numbers\n"
      ]
    },
    {
      "cell_type": "code",
      "execution_count": null,
      "metadata": {
        "id": "4cCfyYq1xkXY"
      },
      "outputs": [],
      "source": []
    },
    {
      "cell_type": "code",
      "execution_count": null,
      "metadata": {
        "id": "sTEGLV_ytEDe"
      },
      "outputs": [],
      "source": []
    },
    {
      "cell_type": "code",
      "execution_count": null,
      "metadata": {
        "id": "WA4LqqOexdyA"
      },
      "outputs": [],
      "source": []
    },
    {
      "cell_type": "markdown",
      "metadata": {
        "id": "2gewMYm_xqlf"
      },
      "source": [
        "c. Of the 10 individuals with the highest income, how many are married males?\n"
      ]
    },
    {
      "cell_type": "code",
      "execution_count": null,
      "metadata": {
        "id": "dPRu9zZCx1Co"
      },
      "outputs": [],
      "source": [
        "# Isolate top 10 income individuals and assign it to a new dataset (e.g.: top10_income = ...)\n"
      ]
    },
    {
      "cell_type": "code",
      "execution_count": null,
      "metadata": {
        "id": "U-x1vaCazRWJ"
      },
      "outputs": [],
      "source": [
        "# Subset for married and male from isolated dataset and count  ( put .count() at the end of query)\n"
      ]
    },
    {
      "cell_type": "markdown",
      "metadata": {
        "id": "LxPeFSGn3CUq"
      },
      "source": [
        "d. What are the highest and the lowest incomes of males and females?\n"
      ]
    },
    {
      "cell_type": "code",
      "execution_count": null,
      "metadata": {
        "id": "IB0Z8tal4KeR"
      },
      "outputs": [],
      "source": [
        "# YOu can create sorted tables and read off the values\n"
      ]
    },
    {
      "cell_type": "code",
      "execution_count": null,
      "metadata": {
        "id": "z11HhjWA3EQI"
      },
      "outputs": [],
      "source": []
    },
    {
      "cell_type": "markdown",
      "metadata": {
        "id": "LiooOwJ43EkR"
      },
      "source": [
        "e. What are the highest and lowest incomes of married and unmarried males?\n"
      ]
    },
    {
      "cell_type": "code",
      "execution_count": null,
      "metadata": {
        "id": "-3G4lZqg3GBQ"
      },
      "outputs": [],
      "source": []
    },
    {
      "cell_type": "code",
      "execution_count": null,
      "metadata": {
        "id": "lls-4QS54ihR"
      },
      "outputs": [],
      "source": []
    }
  ],
  "metadata": {
    "colab": {
      "collapsed_sections": [],
      "name": "Assignment_1_Your_Name.ipynb",
      "provenance": []
    },
    "kernelspec": {
      "display_name": "Python 3",
      "name": "python3"
    },
    "language_info": {
      "codemirror_mode": {
        "name": "ipython",
        "version": 3
      },
      "file_extension": ".py",
      "mimetype": "text/x-python",
      "name": "python",
      "nbconvert_exporter": "python",
      "pygments_lexer": "ipython3",
      "version": "3.11.4"
    }
  },
  "nbformat": 4,
  "nbformat_minor": 0
}
