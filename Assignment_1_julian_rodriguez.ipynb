{
  "nbformat": 4,
  "nbformat_minor": 0,
  "metadata": {
    "colab": {
      "name": "Assignment_1_Your_Name.ipynb",
      "provenance": [],
      "collapsed_sections": []
    },
    "kernelspec": {
      "name": "python3",
      "display_name": "Python 3"
    },
    "language_info": {
      "name": "python"
    }
  },
  "cells": [
    {
      "cell_type": "markdown",
      "source": [
        "Problem 1"
      ],
      "metadata": {
        "id": "mHDRdFg0lM4l"
      }
    },
    {
      "cell_type": "markdown",
      "source": [
        "The accompanying data set contains three numerical variables, x1, x2, and x3."
      ],
      "metadata": {
        "id": "BHeS1AIZqw0n"
      }
    },
    {
      "cell_type": "code",
      "source": [
        "# load data (remember to upload the datafile you downloaded from connect to colab)\n"
      ],
      "metadata": {
        "id": "sBysc_stldRl"
      },
      "execution_count": null,
      "outputs": []
    },
    {
      "cell_type": "markdown",
      "source": [
        "a. How many observations have x1 values greater than 30?"
      ],
      "metadata": {
        "id": "PfEAOKCEq0L_"
      }
    },
    {
      "cell_type": "code",
      "source": [
        "# you can put .count() at the and of your query\n"
      ],
      "metadata": {
        "id": "NEW5H_rfmK6m"
      },
      "execution_count": null,
      "outputs": []
    },
    {
      "cell_type": "markdown",
      "source": [
        "b. Sort the data by x1, x2, and then x3 all in ascending order. What are the x1, x2, and x3 values of the first observation after the data are sorted?"
      ],
      "metadata": {
        "id": "emINeOZbq03e"
      }
    },
    {
      "cell_type": "code",
      "source": [],
      "metadata": {
        "id": "HnVcYgO_nT-W"
      },
      "execution_count": null,
      "outputs": []
    },
    {
      "cell_type": "markdown",
      "source": [
        "c. Sort the data by x1 and x2 both in descending order. What are the x1, x2, and x3 values of the first observation after the data are sorted?"
      ],
      "metadata": {
        "id": "LLxVceoPq2Nd"
      }
    },
    {
      "cell_type": "code",
      "source": [],
      "metadata": {
        "id": "zI4OB2danZrt"
      },
      "execution_count": null,
      "outputs": []
    },
    {
      "cell_type": "markdown",
      "source": [
        "d. How many missing values are there in x1, x2, and x3?\n"
      ],
      "metadata": {
        "id": "0vY3bmheq4f2"
      }
    },
    {
      "cell_type": "code",
      "source": [],
      "metadata": {
        "id": "8XImJ1A6neQ4"
      },
      "execution_count": null,
      "outputs": []
    },
    {
      "cell_type": "markdown",
      "source": [
        "Problem 2.\n",
        "\n",
        "The following table lists a portion of the average writing and math SAT scores for the 50 states as well as the District of Columbia, Puerto Rico, and the U.S. Virgin Islands for the year 2017 as reported by the College Board."
      ],
      "metadata": {
        "id": "b4qs6H1wnv_v"
      }
    },
    {
      "cell_type": "code",
      "source": [
        "# Load data\n"
      ],
      "metadata": {
        "id": "ya7LDYwPnynS"
      },
      "execution_count": null,
      "outputs": []
    },
    {
      "cell_type": "markdown",
      "source": [
        "a. Sort the data by writing scores in descending order. Which state has the highest average writing score? What is the average math score of that state?"
      ],
      "metadata": {
        "id": "OswLXO5ooEkm"
      }
    },
    {
      "cell_type": "code",
      "source": [],
      "metadata": {
        "id": "KF_3BUEBoRqW"
      },
      "execution_count": null,
      "outputs": []
    },
    {
      "cell_type": "markdown",
      "source": [
        "b. Sort the data by math scores in ascending order. Which state has the lowest average math score? What is the average writing score of that state?"
      ],
      "metadata": {
        "id": "y0X6jBuLo-v_"
      }
    },
    {
      "cell_type": "code",
      "source": [],
      "metadata": {
        "id": "FO8YlbOopBZQ"
      },
      "execution_count": null,
      "outputs": []
    },
    {
      "cell_type": "markdown",
      "source": [
        "c. How many states reported an average math score higher than 600?\n"
      ],
      "metadata": {
        "id": "AMarAd7kpcw1"
      }
    },
    {
      "cell_type": "code",
      "source": [
        "# remember to put .count() at the end\n"
      ],
      "metadata": {
        "id": "x1LrqoMNpcYO"
      },
      "execution_count": null,
      "outputs": []
    },
    {
      "cell_type": "markdown",
      "source": [
        "d. How many states reported an average writing score lower than 550?"
      ],
      "metadata": {
        "id": "Sr0aBeRApv3N"
      }
    },
    {
      "cell_type": "code",
      "source": [],
      "metadata": {
        "id": "O-vJqya9p2BF"
      },
      "execution_count": null,
      "outputs": []
    },
    {
      "cell_type": "markdown",
      "source": [
        "Problem 3"
      ],
      "metadata": {
        "id": "o-peNEvQsxd5"
      }
    },
    {
      "cell_type": "markdown",
      "source": [
        "Consider the information on annual income (Income in $1,000s), age, sex (F = female, M = male), and marital status (Married; Y = yes, N = no). A portion of the data is shown in the accompanying table."
      ],
      "metadata": {
        "id": "ROQWp-VUsyzH"
      }
    },
    {
      "cell_type": "code",
      "source": [
        "# Load data\n",
        "\n"
      ],
      "metadata": {
        "id": "wzr4BnAVs1R-"
      },
      "execution_count": null,
      "outputs": []
    },
    {
      "cell_type": "markdown",
      "source": [
        "a. Count the number of males and females in the data."
      ],
      "metadata": {
        "id": "DiibOaAWs0Mv"
      }
    },
    {
      "cell_type": "code",
      "source": [],
      "metadata": {
        "id": "el8yxbUZtBtg"
      },
      "execution_count": null,
      "outputs": []
    },
    {
      "cell_type": "code",
      "source": [],
      "metadata": {
        "id": "uoA8Ov5RxD1b"
      },
      "execution_count": null,
      "outputs": []
    },
    {
      "cell_type": "markdown",
      "source": [
        "b. What percentage of males and females are married?"
      ],
      "metadata": {
        "id": "TF6ea9mAtDDg"
      }
    },
    {
      "cell_type": "code",
      "source": [
        "# you can count the numerator and the denominator separately and just divide the two numbers\n"
      ],
      "metadata": {
        "id": "qMtCmsG8xkig"
      },
      "execution_count": null,
      "outputs": []
    },
    {
      "cell_type": "code",
      "source": [],
      "metadata": {
        "id": "4cCfyYq1xkXY"
      },
      "execution_count": null,
      "outputs": []
    },
    {
      "cell_type": "code",
      "source": [],
      "metadata": {
        "id": "sTEGLV_ytEDe"
      },
      "execution_count": null,
      "outputs": []
    },
    {
      "cell_type": "code",
      "source": [],
      "metadata": {
        "id": "WA4LqqOexdyA"
      },
      "execution_count": null,
      "outputs": []
    },
    {
      "cell_type": "markdown",
      "source": [
        "c. Of the 10 individuals with the highest income, how many are married males?"
      ],
      "metadata": {
        "id": "2gewMYm_xqlf"
      }
    },
    {
      "cell_type": "code",
      "source": [
        "# Isolate top 10 income individuals and assign it to a new dataset (e.g.: top10_income = ...)\n",
        "\n"
      ],
      "metadata": {
        "id": "dPRu9zZCx1Co"
      },
      "execution_count": null,
      "outputs": []
    },
    {
      "cell_type": "code",
      "source": [
        "# Subset for married and male from isolated dataset and count  ( put .count() at the end of query)\n"
      ],
      "metadata": {
        "id": "U-x1vaCazRWJ"
      },
      "execution_count": null,
      "outputs": []
    },
    {
      "cell_type": "markdown",
      "source": [
        "d. What are the highest and the lowest incomes of males and females?"
      ],
      "metadata": {
        "id": "LxPeFSGn3CUq"
      }
    },
    {
      "cell_type": "code",
      "source": [
        "# YOu can create sorted tables and read off the values\n"
      ],
      "metadata": {
        "id": "IB0Z8tal4KeR"
      },
      "execution_count": null,
      "outputs": []
    },
    {
      "cell_type": "code",
      "source": [],
      "metadata": {
        "id": "z11HhjWA3EQI"
      },
      "execution_count": null,
      "outputs": []
    },
    {
      "cell_type": "markdown",
      "source": [
        "e. What are the highest and lowest incomes of married and unmarried males?"
      ],
      "metadata": {
        "id": "LiooOwJ43EkR"
      }
    },
    {
      "cell_type": "code",
      "source": [],
      "metadata": {
        "id": "-3G4lZqg3GBQ"
      },
      "execution_count": null,
      "outputs": []
    },
    {
      "cell_type": "code",
      "source": [],
      "metadata": {
        "id": "lls-4QS54ihR"
      },
      "execution_count": null,
      "outputs": []
    }
  ]
}